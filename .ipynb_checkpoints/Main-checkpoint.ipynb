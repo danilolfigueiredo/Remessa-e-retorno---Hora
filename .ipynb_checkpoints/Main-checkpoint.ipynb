{
 "cells": [
  {
   "cell_type": "code",
   "execution_count": null,
   "id": "8e82abfa",
   "metadata": {},
   "outputs": [],
   "source": [
    "import shutil\n",
    "import os\n",
    "import time"
   ]
  },
  {
   "cell_type": "code",
   "execution_count": null,
   "id": "c198b668",
   "metadata": {},
   "outputs": [],
   "source": [
    "oldAdress = 'C:/Users/Danilo/Desktop/Python/A/' #endereço inicial dos arquivos\n",
    "Itau_Adress = 'C:/Users/Danilo/Desktop/Python/Itau/' #destino dos arquivos do Itau\n",
    "Bradesco_Adress = 'C:/Users/Danilo/Desktop/Python/Bradesco/'  #Destino dos arquivos do Bradesco"
   ]
  },
  {
   "cell_type": "code",
   "execution_count": null,
   "id": "6f781523",
   "metadata": {},
   "outputs": [],
   "source": [
    "lista = os.listdir(oldAdress) \n",
    "lista_len = len(lista)\n",
    "x = 0"
   ]
  },
  {
   "cell_type": "code",
   "execution_count": null,
   "id": "b9f82906",
   "metadata": {
    "scrolled": true
   },
   "outputs": [],
   "source": [
    "while 1:\n",
    "    while x < lista_len:\n",
    "        origem = oldAdress + lista[x] \n",
    "        if lista[x][-1] == 'L':\n",
    "            destino = Bradesco_Adress + lista[x]\n",
    "        else:\n",
    "            destino = Itau_Adress + lista[x]\n",
    "        shutil.move(origem, destino) \n",
    "        print(x, '-', lista[x]) \n",
    "        x += 1\n",
    "        time.sleep(15)"
   ]
  }
 ],
 "metadata": {
  "kernelspec": {
   "display_name": "Python 3 (ipykernel)",
   "language": "python",
   "name": "python3"
  },
  "language_info": {
   "codemirror_mode": {
    "name": "ipython",
    "version": 3
   },
   "file_extension": ".py",
   "mimetype": "text/x-python",
   "name": "python",
   "nbconvert_exporter": "python",
   "pygments_lexer": "ipython3",
   "version": "3.9.7"
  }
 },
 "nbformat": 4,
 "nbformat_minor": 5
}
